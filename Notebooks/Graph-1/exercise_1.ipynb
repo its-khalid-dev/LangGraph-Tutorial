{
 "cells": [
  {
   "cell_type": "code",
   "execution_count": 31,
   "id": "08a8f6c9",
   "metadata": {},
   "outputs": [],
   "source": [
    "from typing import Dict, TypedDict, Optional\n",
    "from langgraph.graph import StateGraph"
   ]
  },
  {
   "cell_type": "code",
   "execution_count": 32,
   "id": "69736006",
   "metadata": {},
   "outputs": [],
   "source": [
    "class AgentState(TypedDict):\n",
    "    name : str\n",
    "    feature : str\n",
    "    message : Optional[str]\n"
   ]
  },
  {
   "cell_type": "code",
   "execution_count": 33,
   "id": "1a28fba3",
   "metadata": {},
   "outputs": [],
   "source": [
    "def give_compliment(state: AgentState) -> AgentState:\n",
    "    \"\"\"Node to give an inputted name a compliment\n",
    "\n",
    "    Args:\n",
    "        state (AgentState): name: str, feature: str\n",
    "\n",
    "    Returns:\n",
    "        AgentState: _description_\n",
    "    \"\"\"\n",
    "    \n",
    "    state['message'] = 'Hey ' + state['name'] + ', I like your ' + state['feature']\n",
    "    \n",
    "    return state\n",
    "    "
   ]
  },
  {
   "cell_type": "code",
   "execution_count": 34,
   "id": "71603e21",
   "metadata": {},
   "outputs": [],
   "source": [
    "graph = StateGraph(AgentState)\n",
    "\n",
    "graph.add_node(\"compliment\", give_compliment)\n",
    "graph.set_entry_point(\"compliment\")\n",
    "graph.set_finish_point(\"compliment\")\n",
    "\n",
    "app = graph.compile()"
   ]
  },
  {
   "cell_type": "code",
   "execution_count": null,
   "id": "ed3de6ce",
   "metadata": {},
   "outputs": [
    {
     "name": "stdout",
     "output_type": "stream",
     "text": [
      "Hey Khalid, I like your smile\n"
     ]
    }
   ],
   "source": [
    "result = app.invoke({\n",
    "    \"name\" : \"Khalid\",\n",
    "    \"feature\" : \"smile\",\n",
    "    \"message\" : None\n",
    "    })\n",
    "\n",
    "print(result['message'])"
   ]
  }
 ],
 "metadata": {
  "kernelspec": {
   "display_name": "langgraph-tutorial",
   "language": "python",
   "name": "python3"
  },
  "language_info": {
   "codemirror_mode": {
    "name": "ipython",
    "version": 3
   },
   "file_extension": ".py",
   "mimetype": "text/x-python",
   "name": "python",
   "nbconvert_exporter": "python",
   "pygments_lexer": "ipython3",
   "version": "3.11.0"
  }
 },
 "nbformat": 4,
 "nbformat_minor": 5
}
