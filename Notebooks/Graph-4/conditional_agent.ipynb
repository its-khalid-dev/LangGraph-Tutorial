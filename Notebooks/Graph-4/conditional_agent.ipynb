{
 "cells": [
  {
   "cell_type": "code",
   "execution_count": 33,
   "id": "2171ba70",
   "metadata": {},
   "outputs": [],
   "source": [
    "from typing import Dict, TypedDict, List, Optional\n",
    "from langgraph.graph import StateGraph, START, END"
   ]
  },
  {
   "cell_type": "code",
   "execution_count": 34,
   "id": "19b9035e",
   "metadata": {},
   "outputs": [],
   "source": [
    "class AgentState(TypedDict):\n",
    "    number1 : int\n",
    "    operation : str\n",
    "    number2 : int\n",
    "    finalNumber : Optional[int]"
   ]
  },
  {
   "cell_type": "code",
   "execution_count": 35,
   "id": "e5959f2a",
   "metadata": {},
   "outputs": [],
   "source": [
    "def addition(state: AgentState) -> AgentState:\n",
    "    \"\"\" Node to add both number\n",
    "\n",
    "    Args:\n",
    "        state (AgentState): _description_\n",
    "\n",
    "    Returns:\n",
    "        AgentState: _description_\n",
    "    \"\"\"\n",
    "    \n",
    "    state['finalNumber'] = state['number1'] + state['number2']\n",
    "    \n",
    "    return state\n",
    "\n",
    "def subtraction(state: AgentState) -> AgentState:\n",
    "    \"\"\" Node to subtract both number\n",
    "\n",
    "    Args:\n",
    "        state (AgentState): _description_\n",
    "\n",
    "    Returns:\n",
    "        AgentState: _description_\n",
    "    \"\"\"\n",
    "    \n",
    "    state['finalNumber'] = state['number1'] - state['number2']\n",
    "    \n",
    "    return state\n",
    "\n",
    "def node_router(state: AgentState) -> AgentState:\n",
    "    \"\"\"This node will route the state to the next node\n",
    "\n",
    "    Args:\n",
    "        state (AgentState): _description_\n",
    "\n",
    "    Returns:\n",
    "        AgentState: _description_\n",
    "    \"\"\"\n",
    "    \n",
    "    if state['operation'] == \"+\":\n",
    "        return \"addition_operation\"\n",
    "    \n",
    "    elif state['operation'] == \"-\":\n",
    "        return \"subtraction_operation\"\n",
    "    "
   ]
  },
  {
   "cell_type": "code",
   "execution_count": 36,
   "id": "f8a8fc9e",
   "metadata": {},
   "outputs": [],
   "source": [
    "graph = StateGraph(AgentState)\n",
    "\n",
    "graph.add_node(\"add\", addition)\n",
    "graph.add_node(\"subtract\", subtraction)\n",
    "graph.add_node(\"router\", lambda state: state) # Passthrough function :: state unchanged\n",
    "\n",
    "graph.add_edge(START, \"router\")\n",
    "\n",
    "graph.add_conditional_edges(\n",
    "    \"router\",\n",
    "    node_router,\n",
    "    {\n",
    "        # Edge : Node\n",
    "        \"addition_operation\" : \"add\",\n",
    "        \"subtraction_operation\" : \"subtract\"\n",
    "        \n",
    "    }\n",
    ")\n",
    "\n",
    "graph.add_edge(\"add\", END)\n",
    "graph.add_edge(\"subtract\", END)\n",
    "\n",
    "app = graph.compile()"
   ]
  },
  {
   "cell_type": "code",
   "execution_count": 37,
   "id": "21395f12",
   "metadata": {},
   "outputs": [
    {
     "data": {
      "image/png": "[encoded data removed]",
      "text/plain": [
       "<IPython.core.display.Image object>"
      ]
     },
     "metadata": {},
     "output_type": "display_data"
    }
   ],
   "source": [
    "from IPython.display import display, Image\n",
    "display(Image(app.get_graph().draw_mermaid_png()))"
   ]
  },
  {
   "cell_type": "code",
   "execution_count": 38,
   "id": "08339011",
   "metadata": {},
   "outputs": [
    {
     "name": "stdout",
     "output_type": "stream",
     "text": [
      "5\n"
     ]
    }
   ],
   "source": [
    "result = app.invoke({\n",
    "    \"number1\" : 10,\n",
    "    \"operation\" : \"-\",\n",
    "    \"number2\" : 5,\n",
    "    \"finalNumber\" : None\n",
    "})\n",
    "\n",
    "print(result['finalNumber'])"
   ]
  }
 ],
 "metadata": {
  "kernelspec": {
   "display_name": "langgraph-tutorial",
   "language": "python",
   "name": "python3"
  },
  "language_info": {
   "codemirror_mode": {
    "name": "ipython",
    "version": 3
   },
   "file_extension": ".py",
   "mimetype": "text/x-python",
   "name": "python",
   "nbconvert_exporter": "python",
   "pygments_lexer": "ipython3",
   "version": "3.11.0"
  }
 },
 "nbformat": 4,
 "nbformat_minor": 5
}
