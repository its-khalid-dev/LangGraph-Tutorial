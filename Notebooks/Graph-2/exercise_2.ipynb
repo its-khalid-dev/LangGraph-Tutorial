{
 "cells": [
  {
   "cell_type": "code",
   "execution_count": 14,
   "id": "8fff070d",
   "metadata": {},
   "outputs": [],
   "source": [
    "from typing import Dict, TypedDict, List, Optional\n",
    "from langgraph.graph import StateGraph\n",
    "import math"
   ]
  },
  {
   "cell_type": "code",
   "execution_count": 15,
   "id": "c8d0ecea",
   "metadata": {},
   "outputs": [],
   "source": [
    "class AgentState(TypedDict):\n",
    "    values : List[int]\n",
    "    name : str\n",
    "    operator : str\n",
    "    result: Optional[str]"
   ]
  },
  {
   "cell_type": "code",
   "execution_count": 16,
   "id": "b4901da8",
   "metadata": {},
   "outputs": [],
   "source": [
    "def process_values(state: AgentState) -> AgentState:\n",
    "    \"\"\" Node which gets the operation to perform from input and operate in list of values\n",
    "\n",
    "    Args:\n",
    "        state (AgentState): _description_\n",
    "\n",
    "    Returns:\n",
    "        AgentState: _description_\n",
    "    \"\"\"\n",
    "    \n",
    "    if state['operator'] == \"*\":\n",
    "        state['result'] = f\"Hey {state['name']}! Multiplication of {state['values']} is {math.prod(state['values'])}\"\n",
    "    else:\n",
    "        state['result'] = f\"Hey {state['name']}! Sum of {state['values']} is {sum(state['values'])}\"\n",
    "        \n",
    "    return state"
   ]
  },
  {
   "cell_type": "code",
   "execution_count": 17,
   "id": "31ba5638",
   "metadata": {},
   "outputs": [],
   "source": [
    "graph = StateGraph(AgentState)\n",
    "\n",
    "graph.add_node(\"process\", process_values)\n",
    "graph.set_entry_point(\"process\")\n",
    "graph.set_finish_point(\"process\")\n",
    "\n",
    "app = graph.compile()"
   ]
  },
  {
   "cell_type": "code",
   "execution_count": null,
   "id": "d1caf272",
   "metadata": {},
   "outputs": [
    {
     "name": "stdout",
     "output_type": "stream",
     "text": [
      "Hey Khalid! Sum of [1, 2, 3, 4] is 10\n"
     ]
    }
   ],
   "source": [
    "result = app.invoke({\n",
    "    \"values\" : [1, 2, 3, 4],\n",
    "    \"name\" : \"Khalid\",\n",
    "    \"operator\" : \"*\",\n",
    "    \"result\" : None\n",
    "})\n",
    "\n",
    "print(result['result'])"
   ]
  }
 ],
 "metadata": {
  "kernelspec": {
   "display_name": "langgraph-tutorial",
   "language": "python",
   "name": "python3"
  },
  "language_info": {
   "codemirror_mode": {
    "name": "ipython",
    "version": 3
   },
   "file_extension": ".py",
   "mimetype": "text/x-python",
   "name": "python",
   "nbconvert_exporter": "python",
   "pygments_lexer": "ipython3",
   "version": "3.11.0"
  }
 },
 "nbformat": 4,
 "nbformat_minor": 5
}
