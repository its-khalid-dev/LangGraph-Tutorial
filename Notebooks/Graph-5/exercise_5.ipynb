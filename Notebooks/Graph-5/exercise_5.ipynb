{
 "cells": [
  {
   "cell_type": "code",
   "execution_count": 101,
   "id": "e41f6597",
   "metadata": {},
   "outputs": [],
   "source": [
    "from typing import TypedDict, Dict, List, Optional\n",
    "import random\n",
    "from langgraph.graph import StateGraph, START, END"
   ]
  },
  {
   "cell_type": "code",
   "execution_count": 102,
   "id": "6ae520fd",
   "metadata": {},
   "outputs": [],
   "source": [
    "class AgentState(TypedDict):\n",
    "   initGuess : int\n",
    "   lowerBound : int\n",
    "   upperBound : int\n",
    "   target : int\n",
    "   count : int\n",
    "   countMax : int"
   ]
  },
  {
   "cell_type": "code",
   "execution_count": 103,
   "id": "75b31d30",
   "metadata": {},
   "outputs": [],
   "source": [
    "def setUp(state: AgentState) -> AgentState:\n",
    "    \"\"\"Set up the guessing game\n",
    "\n",
    "    Args:\n",
    "        state (AgentState): _description_\n",
    "\n",
    "    Returns:\n",
    "        AgentState: _description_\n",
    "    \"\"\"\n",
    "    \n",
    "    state['target'] = random.randint(state['lowerBound'], state['upperBound'])\n",
    "    state['count'] = 0\n",
    "    \n",
    "    return state\n",
    "    \n",
    "def guess(state: AgentState) -> AgentState:\n",
    "    \"\"\"Node to guess number\n",
    "\n",
    "    Args:\n",
    "        state (AgentState): _description_\n",
    "\n",
    "    Returns:\n",
    "        AgentState: _description_\n",
    "    \"\"\"\n",
    "    \n",
    "    print(f\"initGuess: {state['initGuess']}, lowerBound: {state['lowerBound']}, lowerBound: {state['upperBound']}, target: {state['target']}, count: {state['count']}, countMax: {state['countMax']}\")\n",
    "    \n",
    "    if state['initGuess'] == state['target']:\n",
    "        print(f\"Guess {state['count']}: target reached\")\n",
    "        return state\n",
    "    \n",
    "    if state['count'] == state['countMax']:\n",
    "        print(f\"Couldn't guess in {state['count']} attempts\")\n",
    "        return state\n",
    "        \n",
    "    \n",
    "    if state['initGuess'] > state['target']:\n",
    "        print(f\"Guess {state['count']}: Guess too high\")\n",
    "        state['upperBound'] = state['initGuess'] - 1\n",
    "    else:\n",
    "        print(f\"Guess {state['count']}: Guess too low\")\n",
    "        state['lowerBound'] = state['initGuess'] + 1\n",
    "        \n",
    "    state['count'] += 1\n",
    "    state['initGuess'] = (state['lowerBound'] + state['upperBound']) // 2\n",
    "    \n",
    "    return state\n",
    "    \n",
    "def should_continue(state: AgentState) -> str:\n",
    "    \"\"\"Function to loop\n",
    "\n",
    "    Args:\n",
    "        state (AgentState): _description_\n",
    "\n",
    "    Returns:\n",
    "        str: Routing strings\n",
    "    \"\"\"\n",
    "    \n",
    "    if state['count'] < state['countMax'] and state['initGuess'] != state['target']:\n",
    "        return \"continue\"\n",
    "    else:\n",
    "        return \"exit\"\n",
    "        \n",
    "        "
   ]
  },
  {
   "cell_type": "code",
   "execution_count": null,
   "id": "4cc6ed27",
   "metadata": {},
   "outputs": [],
   "source": [
    "graph = StateGraph(AgentState)\n",
    "\n",
    "graph.add_node(\"setUp\", setUp)\n",
    "graph.add_node(\"guess\", guess)\n",
    "\n",
    "graph.add_edge(START, \"setUp\")\n",
    "graph.add_edge(\"setUp\", \"guess\")\n",
    "\n",
    "graph.add_conditional_edges(\n",
    "    \"guess\",\n",
    "    should_continue,\n",
    "    {\n",
    "        \"continue\": \"guess\",\n",
    "        \"exit\" : END\n",
    "    }\n",
    ")\n",
    "\n",
    "app = graph.compile()\n"
   ]
  },
  {
   "cell_type": "code",
   "execution_count": 105,
   "id": "8ebef369",
   "metadata": {},
   "outputs": [
    {
     "data": {
      "image/png": "[encoded data removed]",
      "text/plain": [
       "<IPython.core.display.Image object>"
      ]
     },
     "metadata": {},
     "output_type": "display_data"
    }
   ],
   "source": [
    "from IPython.display import display, Image\n",
    "display(Image(app.get_graph().draw_mermaid_png()))"
   ]
  },
  {
   "cell_type": "code",
   "execution_count": 106,
   "id": "9dbe9529",
   "metadata": {},
   "outputs": [
    {
     "name": "stdout",
     "output_type": "stream",
     "text": [
      "initGuess: 5, lowerBound: 1, lowerBound: 20, target: 18, count: 0, countMax: 7\n",
      "Guess 0: Guess too low\n",
      "initGuess: 13, lowerBound: 6, lowerBound: 20, target: 18, count: 1, countMax: 7\n",
      "Guess 1: Guess too low\n",
      "initGuess: 17, lowerBound: 14, lowerBound: 20, target: 18, count: 2, countMax: 7\n",
      "Guess 2: Guess too low\n",
      "initGuess: 19, lowerBound: 18, lowerBound: 20, target: 18, count: 3, countMax: 7\n",
      "Guess 3: Guess too high\n"
     ]
    }
   ],
   "source": [
    "result = app.invoke({\n",
    "    \"initGuess\" : 5,\n",
    "    \"lowerBound\" : 1,\n",
    "    \"upperBound\" : 20,\n",
    "    \"target\" : 0,\n",
    "    \"count\" : 0,\n",
    "    \"countMax\" : 7\n",
    "})\n"
   ]
  }
 ],
 "metadata": {
  "kernelspec": {
   "display_name": "langgraph-tutorial",
   "language": "python",
   "name": "python3"
  },
  "language_info": {
   "codemirror_mode": {
    "name": "ipython",
    "version": 3
   },
   "file_extension": ".py",
   "mimetype": "text/x-python",
   "name": "python",
   "nbconvert_exporter": "python",
   "pygments_lexer": "ipython3",
   "version": "3.11.0"
  }
 },
 "nbformat": 4,
 "nbformat_minor": 5
}
